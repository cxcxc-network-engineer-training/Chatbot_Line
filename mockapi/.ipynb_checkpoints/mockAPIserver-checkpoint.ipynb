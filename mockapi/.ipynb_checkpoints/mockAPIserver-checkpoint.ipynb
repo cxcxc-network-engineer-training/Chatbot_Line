{
 "cells": [
  {
   "cell_type": "code",
   "execution_count": 2,
   "metadata": {
    "scrolled": true
   },
   "outputs": [
    {
     "name": "stdout",
     "output_type": "stream",
     "text": [
      "[{'answer1_content': 'fine',\n",
      "  'answer2_content': 'soso',\n",
      "  'answer3_content': 'great',\n",
      "  'answer4_content': 'bad',\n",
      "  'external_link': '',\n",
      "  'question_content': 'how are you',\n",
      "  'question_id': 1,\n",
      "  'true_answer': 1,\n",
      "  'true_answer_decribe_content': 'life is great'}]\n"
     ]
    }
   ],
   "source": [
    "from flask import Flask, jsonify,request\n",
    "import json\n",
    "from pprint import pprint\n",
    "\n",
    "\n",
    "usercheck=open('./user.json','r')\n",
    "menucheck=open('./menu.json','r')\n",
    "sacheck=open('./sa.json','r')\n",
    "devlopcheck=open('./devlop.json','r')\n",
    "sysopscheck=open('./sysops.json','r')\n",
    "jsonUser = json.load(usercheck)\n",
    "jsonMenu = json.load(menucheck)\n",
    "jsonSa = json.load(sacheck)\n",
    "jsonDevlop = json.load(devlopcheck)\n",
    "jsonSysops = json.load(sysopscheck)\n",
    "\n",
    "\n",
    "pprint(jsonSa)\n"
   ]
  },
  {
   "cell_type": "code",
   "execution_count": null,
   "metadata": {
    "scrolled": true
   },
   "outputs": [
    {
     "name": "stderr",
     "output_type": "stream",
     "text": [
      " * Running on http://0.0.0.0:5001/ (Press CTRL+C to quit)\n",
      "127.0.0.1 - - [11/Sep/2018 11:31:39] \"GET / HTTP/1.1\" 200 -\n",
      "127.0.0.1 - - [11/Sep/2018 11:31:39] \"GET /favicon.ico HTTP/1.1\" 404 -\n"
     ]
    }
   ],
   "source": [
    "app = Flask(__name__)\n",
    "\n",
    "\n",
    "\n",
    "@app.route('/user/<string:user_open_id>')\n",
    "def get_single_user(user_open_id):\n",
    "    for singleuser in jsonUser:\n",
    "        if singleuser['user_open_id'] == user_open_id:\n",
    "            return jsonify(singleuser)\n",
    "    return jsonify ({'message': 'store not found'})\n",
    "\n",
    "@app.route('/user' , methods=['POST'])\n",
    "def create_user():\n",
    "    request_data = request.get_json()\n",
    "    new_user = {\n",
    "       \n",
    "        'user_img': request_data['user_img'], \n",
    "        'user_nick_name': request_data['user_nick_name'], \n",
    "        'user_open_id': request_data['user_open_id'], \n",
    "        'user_register_menu': request_data['user_register_menu'], \n",
    "        'user_status': request_data['user_status']\n",
    "            }\n",
    "    jsonUser.append(new_user)\n",
    "    return jsonify(new_user)\n",
    "\n",
    "@app.route('/user/<string:user_open_id>', methods=['PUT'])\n",
    "def update_task(user_open_id):\n",
    "    task = [task for task in jsonUser if task['user_open_id'] == user_open_id]\n",
    "    if len(task) == 0:\n",
    "        abort(404)\n",
    "    if not request.json:\n",
    "        abort(400)\n",
    "    if 'user_nick_name' in request.json and type(request.json['user_nick_name']) != str:\n",
    "        abort(400)\n",
    "    if 'user_status' in request.json and type(request.json['user_status']) is not str:\n",
    "        abort(400)\n",
    "    if 'user_img' in request.json and type(request.json['user_img']) is not str:\n",
    "        abort(400)\n",
    "    if 'user_register_menu' in request.json and type(request.json['user_img']) is not str:\n",
    "        abort(400)\n",
    "    task[0]['user_nick_name'] = request.json.get('user_nick_name', task[0]['user_nick_name'])\n",
    "    task[0]['user_status'] = request.json.get('user_status', task[0]['user_status'])\n",
    "    task[0]['user_img'] = request.json.get('user_img', task[0]['user_img'])\n",
    "    task[0]['user_register_menu'] = request.json.get('user_register_menu', task[0]['user_register_menu'])\n",
    "    return jsonify({'task': task[0]})\n",
    "\n",
    "\n",
    "\n",
    "@app.route('/users')\n",
    "def get_users():\n",
    " \n",
    "    user_open_id =request.args['user_open_id']\n",
    "    for searchuser in jsonUser:\n",
    "        if searchuser['user_open_id'] == user_open_id:\n",
    "            return jsonify(searchuser)\n",
    "      \n",
    "    \n",
    "@app.route('/menu',methods=['POST'])\n",
    "def get_menu():\n",
    "    request_data = request.get_json()\n",
    "    new_menu = {\n",
    "       \n",
    "        'menu_id': request_data['menu_id'], \n",
    "        'menu_content': request_data['menu_content']\n",
    "       \n",
    "            }\n",
    "    jsonMenu.append(new_menu)\n",
    "    return jsonify({\"status_describe\":\"success add menu\"})\n",
    "        \n",
    "    \n",
    "@app.route('/question/sa')\n",
    "def get_sa():\n",
    "    avalue=[]\n",
    "    question_id =request.args.get(\"question_id\")\n",
    "    sa_id=int(question_id)\n",
    "    for qsa in jsonSa:\n",
    "        if qsa['question_id'] == sa_id:\n",
    "            return jsonify(qsa)   \n",
    "    \n",
    "@app.route('/question/devlop')\n",
    "def get_dv():\n",
    "    avalue=[]\n",
    "    question_id =request.args.get(\"question_id\")\n",
    "    dv_id=int(question_id)\n",
    "    for qsa in jsonDevlop:\n",
    "        if qsa['question_id'] == dv_id:\n",
    "            return jsonify(qsa)   \n",
    "        \n",
    "        \n",
    "@app.route('/question/sysops')\n",
    "def get_sys():\n",
    "    avalue=[]\n",
    "    question_id =request.args.get(\"question_id\")\n",
    "    sys_id=int(question_id)\n",
    "    for qsa in jsonSysops:\n",
    "        if qsa['question_id'] == sys_id:\n",
    "            return jsonify(qsa)     \n",
    "       \n",
    "    \n",
    "if __name__ == \"__main__\":\n",
    "    app.run(host='0.0.0.0',port=5000 )"
   ]
  },
  {
   "cell_type": "code",
   "execution_count": null,
   "metadata": {},
   "outputs": [],
   "source": []
  }
 ],
 "metadata": {
  "kernelspec": {
   "display_name": "Python 3",
   "language": "python",
   "name": "python3"
  },
  "language_info": {
   "codemirror_mode": {
    "name": "ipython",
    "version": 3
   },
   "file_extension": ".py",
   "mimetype": "text/x-python",
   "name": "python",
   "nbconvert_exporter": "python",
   "pygments_lexer": "ipython3",
   "version": "3.6.5"
  }
 },
 "nbformat": 4,
 "nbformat_minor": 2
}
