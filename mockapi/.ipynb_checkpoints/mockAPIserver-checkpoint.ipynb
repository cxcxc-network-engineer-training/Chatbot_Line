{
 "cells": [
  {
   "cell_type": "code",
   "execution_count": 1,
   "metadata": {
    "scrolled": true
   },
   "outputs": [
    {
     "name": "stdout",
     "output_type": "stream",
     "text": [
      "Collecting flask==0.12\n",
      "  Using cached https://files.pythonhosted.org/packages/0e/e9/37ee66dde483dceefe45bb5e92b387f990d4f097df40c400cf816dcebaa4/Flask-0.12-py2.py3-none-any.whl\n",
      "Collecting itsdangerous>=0.21 (from flask==0.12)\n",
      "Collecting Jinja2>=2.4 (from flask==0.12)\n",
      "  Using cached https://files.pythonhosted.org/packages/7f/ff/ae64bacdfc95f27a016a7bed8e8686763ba4d277a78ca76f32659220a731/Jinja2-2.10-py2.py3-none-any.whl\n",
      "Collecting Werkzeug>=0.7 (from flask==0.12)\n",
      "  Using cached https://files.pythonhosted.org/packages/20/c4/12e3e56473e52375aa29c4764e70d1b8f3efa6682bef8d0aae04fe335243/Werkzeug-0.14.1-py2.py3-none-any.whl\n",
      "Collecting click>=2.0 (from flask==0.12)\n",
      "  Using cached https://files.pythonhosted.org/packages/34/c1/8806f99713ddb993c5366c362b2f908f18269f8d792aff1abfd700775a77/click-6.7-py2.py3-none-any.whl\n",
      "Collecting MarkupSafe>=0.23 (from Jinja2>=2.4->flask==0.12)\n",
      "Installing collected packages: itsdangerous, MarkupSafe, Jinja2, Werkzeug, click, flask\n",
      "Successfully installed Jinja2-2.10 MarkupSafe-1.0 Werkzeug-0.14.1 click-6.7 flask-1.0.2 itsdangerous-0.24\n"
     ]
    }
   ],
   "source": [
    "!pip install flask==0.12"
   ]
  },
  {
   "cell_type": "code",
   "execution_count": 7,
   "metadata": {
    "scrolled": true
   },
   "outputs": [
    {
     "name": "stdout",
     "output_type": "stream",
     "text": [
      "[{'answer1_content': 'fine',\n",
      "  'answer2_content': 'soso',\n",
      "  'answer3_content': 'great',\n",
      "  'answer4_content': 'bad',\n",
      "  'external_link': '',\n",
      "  'question_content': 'how are you',\n",
      "  'question_id': 1,\n",
      "  'true_answer': 1,\n",
      "  'true_answer_decribe_content': 'life is great'}]\n"
     ]
    }
   ],
   "source": [
    "from flask import Flask, jsonify,request\n",
    "import json\n",
    "from pprint import pprint\n",
    "\n",
    "\n",
    "usercheck=open('./user.json','r')\n",
    "menucheck=open('./menu.json','r')\n",
    "sacheck=open('./sa.json','r')\n",
    "devlopcheck=open('./devlop.json','r')\n",
    "sysopscheck=open('./sysops.json','r')\n",
    "jsonUser = json.load(usercheck)\n",
    "jsonMenu = json.load(menucheck)\n",
    "jsonSa = json.load(sacheck)\n",
    "jsonDevlop = json.load(devlopcheck)\n",
    "jsonSysops = json.load(sysopscheck)\n",
    "\n",
    "\n",
    "pprint(jsonSa)\n"
   ]
  },
  {
   "cell_type": "code",
   "execution_count": null,
   "metadata": {
    "scrolled": true
   },
   "outputs": [
    {
     "name": "stderr",
     "output_type": "stream",
     "text": [
      " * Running on http://192.168.1.107:5000/ (Press CTRL+C to quit)\n",
      "192.168.1.107 - - [09/Sep/2018 00:03:03] \"GET /question/sysops?question_id=1 HTTP/1.1\" 200 -\n",
      "[2018-09-09 00:03:06,913] ERROR in app: Exception on /question/sysops [GET]\n",
      "Traceback (most recent call last):\n",
      "  File \"/home/tesa/.local/lib/python3.6/site-packages/flask/app.py\", line 1982, in wsgi_app\n",
      "    response = self.full_dispatch_request()\n",
      "  File \"/home/tesa/.local/lib/python3.6/site-packages/flask/app.py\", line 1615, in full_dispatch_request\n",
      "    return self.finalize_request(rv)\n",
      "  File \"/home/tesa/.local/lib/python3.6/site-packages/flask/app.py\", line 1630, in finalize_request\n",
      "    response = self.make_response(rv)\n",
      "  File \"/home/tesa/.local/lib/python3.6/site-packages/flask/app.py\", line 1725, in make_response\n",
      "    raise ValueError('View function did not return a response')\n",
      "ValueError: View function did not return a response\n",
      "192.168.1.107 - - [09/Sep/2018 00:03:06] \"GET /question/sysops?question_id=2 HTTP/1.1\" 500 -\n",
      "192.168.1.107 - - [09/Sep/2018 00:03:09] \"GET /question/sysops?question_id=1 HTTP/1.1\" 200 -\n"
     ]
    }
   ],
   "source": [
    "app = Flask(__name__)\n",
    "\n",
    "\n",
    "\n",
    "\n",
    "\n",
    "@app.route('/user/<string:user_open_id>')\n",
    "def get_single_user(user_open_id):\n",
    "    for singleuser in jsonUser:\n",
    "        if singleuser['user_open_id'] == user_open_id:\n",
    "            return jsonify(singleuser)\n",
    "    return jsonify ({'message': 'store not found'})\n",
    "\n",
    "\n",
    "\n",
    "@app.route('/user' , methods=['POST'])\n",
    "def create_user():\n",
    "    request_data = request.get_json()\n",
    "    new_user = {\n",
    "       \n",
    "        'user_img': request_data['user_img'], \n",
    "        'user_nick_name': request_data['user_nick_name'], \n",
    "        'user_open_id': request_data['user_open_id'], \n",
    "        'user_register_menu': request_data['user_register_menu'], \n",
    "        'user_status': request_data['user_status']\n",
    "            }\n",
    "    jsonUser.append(new_user)\n",
    "    return jsonify(new_user)\n",
    "\n",
    "\n",
    "\n",
    "\n",
    "@app.route('/user/<string:user_open_id>', methods=['PUT'])\n",
    "def update_task(user_open_id):\n",
    "    task = [task for task in jsonUser if task['user_open_id'] == user_open_id]\n",
    "    if len(task) == 0:\n",
    "        abort(404)\n",
    "    if not request.json:\n",
    "        abort(400)\n",
    "    if 'user_nick_name' in request.json and type(request.json['user_nick_name']) != str:\n",
    "        abort(400)\n",
    "    if 'user_status' in request.json and type(request.json['user_status']) is not str:\n",
    "        abort(400)\n",
    "    if 'user_img' in request.json and type(request.json['user_img']) is not str:\n",
    "        abort(400)\n",
    "    if 'user_register_menu' in request.json and type(request.json['user_img']) is not str:\n",
    "        abort(400)\n",
    "    task[0]['user_nick_name'] = request.json.get('user_nick_name', task[0]['user_nick_name'])\n",
    "    task[0]['user_status'] = request.json.get('user_status', task[0]['user_status'])\n",
    "    task[0]['user_img'] = request.json.get('user_img', task[0]['user_img'])\n",
    "    task[0]['user_register_menu'] = request.json.get('user_register_menu', task[0]['user_register_menu'])\n",
    "    return jsonify({'task': task[0]})\n",
    "\n",
    "\n",
    "\n",
    "@app.route('/users')\n",
    "def get_users():\n",
    " \n",
    "    user_open_id =request.args['user_open_id']\n",
    "    for searchuser in jsonUser:\n",
    "        if searchuser['user_open_id'] == user_open_id:\n",
    "            return jsonify(searchuser)\n",
    "  \n",
    "  #  total=len\n",
    "   # for x in range(0,total):\n",
    "   \n",
    "\n",
    "\n",
    "\n",
    "    # aaa =[]\n",
    "    #for allUsers in jsonUser: for i in len(abc\n",
    "    #    aaa.append(allUsers)\n",
    "    \n",
    "    #return jsonify(aaa)\n",
    "    \n",
    "    \n",
    "    \n",
    "@app.route('/menu',methods=['POST'])\n",
    "def get_menu():\n",
    "    request_data = request.get_json()\n",
    "    new_menu = {\n",
    "       \n",
    "        'menu_id': request_data['menu_id'], \n",
    "        'menu_content': request_data['menu_content']\n",
    "       \n",
    "            }\n",
    "    jsonMenu.append(new_menu)\n",
    "    return jsonify({\"status_describe\":\"success add menu\"})\n",
    "    \n",
    "    \n",
    "    \n",
    "    \n",
    "@app.route('/question/sa')\n",
    "def get_sa():\n",
    "    avalue=[]\n",
    "    question_id =request.args.get(\"question_id\")\n",
    "    sa_id=int(question_id)\n",
    "    for qsa in jsonSa:\n",
    "        if qsa['question_id'] == sa_id:\n",
    "            return jsonify(qsa)   \n",
    "    \n",
    "@app.route('/question/devlop')\n",
    "def get_dv():\n",
    "    avalue=[]\n",
    "    question_id =request.args.get(\"question_id\")\n",
    "    dv_id=int(question_id)\n",
    "    for qsa in jsonDevlop:\n",
    "        if qsa['question_id'] == dv_id:\n",
    "            return jsonify(qsa)   \n",
    "        \n",
    "        \n",
    "@app.route('/question/sysops')\n",
    "def get_sys():\n",
    "    avalue=[]\n",
    "    question_id =request.args.get(\"question_id\")\n",
    "    sys_id=int(question_id)\n",
    "    for qsa in jsonSysops:\n",
    "        if qsa['question_id'] == sys_id:\n",
    "            return jsonify(qsa)     \n",
    "    \n",
    "    \n",
    "    \n",
    "    \n",
    "    \n",
    "    \n",
    "if __name__ == \"__main__\":\n",
    "    app.run(host='192.168.1.107',port=5000 )"
   ]
  },
  {
   "cell_type": "code",
   "execution_count": null,
   "metadata": {
    "scrolled": true
   },
   "outputs": [],
   "source": []
  },
  {
   "cell_type": "code",
   "execution_count": null,
   "metadata": {
    "scrolled": true
   },
   "outputs": [],
   "source": []
  },
  {
   "cell_type": "code",
   "execution_count": 63,
   "metadata": {
    "scrolled": false
   },
   "outputs": [
    {
     "ename": "AttributeError",
     "evalue": "'str' object has no attribute 'append'",
     "output_type": "error",
     "traceback": [
      "\u001b[0;31m---------------------------------------------------------------------------\u001b[0m",
      "\u001b[0;31mAttributeError\u001b[0m                            Traceback (most recent call last)",
      "\u001b[0;32m<ipython-input-63-469060541e57>\u001b[0m in \u001b[0;36m<module>\u001b[0;34m()\u001b[0m\n\u001b[1;32m      1\u001b[0m \u001b[0mser\u001b[0m\u001b[0;34m=\u001b[0m\u001b[0;34m\"\"\u001b[0m\u001b[0;34m\u001b[0m\u001b[0m\n\u001b[0;32m----> 2\u001b[0;31m \u001b[0mser\u001b[0m\u001b[0;34m.\u001b[0m\u001b[0mappend\u001b[0m\u001b[0;34m(\u001b[0m\u001b[0mjsonUser\u001b[0m\u001b[0;34m)\u001b[0m\u001b[0;34m\u001b[0m\u001b[0m\n\u001b[0m\u001b[1;32m      3\u001b[0m \u001b[0mprint\u001b[0m\u001b[0;34m(\u001b[0m\u001b[0mser\u001b[0m\u001b[0;34m)\u001b[0m\u001b[0;34m\u001b[0m\u001b[0m\n",
      "\u001b[0;31mAttributeError\u001b[0m: 'str' object has no attribute 'append'"
     ]
    }
   ],
   "source": [
    "#ser=\"\"\n",
    "#ser.append(jsonUser)\n",
    "#print(ser)"
   ]
  },
  {
   "cell_type": "code",
   "execution_count": 70,
   "metadata": {
    "scrolled": true
   },
   "outputs": [
    {
     "name": "stdout",
     "output_type": "stream",
     "text": [
      "1\n",
      "2\n"
     ]
    }
   ],
   "source": [
    "#cds=[{\"id\":\"dsdsd\"},{\"id\":\"dsccc\"}]\n",
    "#acdc=len(cds)\n",
    "#for x in range(1,(acdc)+1):\n",
    " #   print (x)"
   ]
  },
  {
   "cell_type": "code",
   "execution_count": null,
   "metadata": {
    "scrolled": true
   },
   "outputs": [],
   "source": [
    "\n",
    "        "
   ]
  },
  {
   "cell_type": "code",
   "execution_count": null,
   "metadata": {
    "scrolled": true
   },
   "outputs": [],
   "source": []
  }
 ],
 "metadata": {
  "kernelspec": {
   "display_name": "Python 3",
   "language": "python",
   "name": "python3"
  },
  "language_info": {
   "codemirror_mode": {
    "name": "ipython",
    "version": 3
   },
   "file_extension": ".py",
   "mimetype": "text/x-python",
   "name": "python",
   "nbconvert_exporter": "python",
   "pygments_lexer": "ipython3",
   "version": "3.6.5"
  }
 },
 "nbformat": 4,
 "nbformat_minor": 2
}
