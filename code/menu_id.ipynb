{
 "cells": [
  {
   "cell_type": "code",
   "execution_count": 26,
   "metadata": {},
   "outputs": [],
   "source": [
    "#做一個menu的基本框架\n",
    "\n",
    "menuRawData=\"\"\"\n",
    "{\n",
    "  \"size\": {\n",
    "    \"width\": 2500,\n",
    "    \"height\": 843\n",
    "  },\n",
    "  \"selected\": true,\n",
    "  \"name\": \"自定義菜單-2\",\n",
    "  \"chatBarText\": \"功能選單\",\n",
    "  \"areas\": [\n",
    "    {\n",
    "      \"bounds\": {\n",
    "        \"x\": 66,\n",
    "        \"y\": 155,\n",
    "        \"width\": 510,\n",
    "        \"height\": 510\n",
    "      },\n",
    "      \"action\": {\n",
    "        \"type\": \"postback\",\n",
    "        \"data\": \"type=question&question_type=sa\"\n",
    "      }\n",
    "    },\n",
    "    {\n",
    "      \"bounds\": {\n",
    "        \"x\": 676,\n",
    "        \"y\": 155,\n",
    "        \"width\": 510,\n",
    "        \"height\": 510\n",
    "      },\n",
    "      \"action\": {\n",
    "        \"type\": \"postback\",\n",
    "        \"data\": \"type=question&question_type=develop\"\n",
    "      }\n",
    "    },\n",
    "    {\n",
    "      \"bounds\": {\n",
    "        \"x\": 1296,\n",
    "        \"y\": 155,\n",
    "        \"width\": 510,\n",
    "        \"height\": 510\n",
    "      },\n",
    "      \"action\": {\n",
    "        \"type\": \"postback\",\n",
    "        \"data\": \"type=question&question_type=sysops\"\n",
    "      }\n",
    "    },\n",
    "    {\n",
    "      \"bounds\": {\n",
    "        \"x\": 1906,\n",
    "        \"y\": 155,\n",
    "        \"width\": 510,\n",
    "        \"height\": 510\n",
    "      },\n",
    "      \"action\": {\n",
    "        \"type\":\"uri\",\n",
    "        \"uri\":\"https://github.com/iii-cutting-edge-tech-lab/Chatbot_Project\"\n",
    "      }\n",
    "    }   \n",
    "  ]\n",
    "}\n",
    "\"\"\""
   ]
  },
  {
   "cell_type": "code",
   "execution_count": 29,
   "metadata": {},
   "outputs": [],
   "source": [
    "\"\"\"\n",
    "    user_id：就是姓名\n",
    "    access_token：就像是ssh的私鑰\n",
    "    secret_key：就是身份證字號，證明是line本人\n",
    "\n",
    "\"\"\"\n",
    "\n",
    "#擷取檔案內的變數，下面會使用\n",
    "\n",
    "import json\n",
    "secretFileContentJson=json.load(open(\"./secret_key\",'r'))\n",
    "\n",
    "access_token = secretFileContentJson.get(\"channel_access_token\")\n",
    "sercret_key = secretFileContentJson.get(\"secret_key\")\n",
    "user_id = secretFileContentJson.get(\"self_user_id\")"
   ]
  },
  {
   "cell_type": "code",
   "execution_count": 27,
   "metadata": {},
   "outputs": [
    {
     "name": "stdout",
     "output_type": "stream",
     "text": [
      "<Response [200]>\n",
      "{\"richMenuId\":\"richmenu-68cb44af053d5cfb90aeaedc96bd306a\"}\n"
     ]
    }
   ],
   "source": [
    "\"\"\"\n",
    "    將上面做好的menu框架post給line\n",
    "    line會製作一個menu_id回傳過來\n",
    "    之後就都是靠menu_id來連動menu\n",
    "    一個bot最多一千個menu\n",
    "\n",
    "\"\"\"\n",
    "\n",
    "\n",
    "#使用requests來傳送封包\n",
    "\n",
    "import requests\n",
    "\n",
    "#讀上面的menu框架\n",
    "menuJson=json.loads(menuRawData)\n",
    "\n",
    "#line的位置\n",
    "createMenuEndpoint = 'https://api.line.me/v2/bot/richmenu'\n",
    "#http的header靠Authorization來辨識你是誰\n",
    "createMenuRequestHeader={'Content-Type':'application/json','Authorization':'Bearer %s' % access_token }\n",
    "#使用post的方式新增menu進line，會回傳一個menu_id\n",
    "lineCreateMenuResponse = requests.post(createMenuEndpoint,headers=createMenuRequestHeader,data=json.dumps(menuJson))\n",
    "\n",
    "#看是否正確回覆\n",
    "print(lineCreateMenuResponse)\n",
    "#取出menu_id\n",
    "print(lineCreateMenuResponse.text)\n",
    "\n",
    "\n",
    "\n"
   ]
  },
  {
   "cell_type": "code",
   "execution_count": 30,
   "metadata": {},
   "outputs": [
    {
     "name": "stdout",
     "output_type": "stream",
     "text": [
      "richmenu-68cb44af053d5cfb90aeaedc96bd306a\n",
      "https://api.line.me/v2/bot/richmenu/richmenu-68cb44af053d5cfb90aeaedc96bd306a/content\n",
      "<Response [200]>\n",
      "{}\n"
     ]
    }
   ],
   "source": [
    "'''\n",
    "    得到menu_id後\n",
    "    再對menu進行更多的設定\n",
    "\n",
    "'''\n",
    "\n",
    "# 從secret_key取得菜單Id \n",
    "uploadRichMenuId=secretFileContentJson.get(\"rich_menu_id\")\n",
    "print(uploadRichMenuId)\n",
    "\n",
    "# 設定Line的遠端位置\n",
    "uploadMenuEndpoint='https://api.line.me/v2/bot/richmenu/%s/content' % uploadRichMenuId\n",
    "print(uploadMenuEndpoint)\n",
    "\n",
    "# 設定消息的基本安全憑證\n",
    "uploadMenuRequestHeader={'Content-Type':'image/jpeg','Authorization':'Bearer %s' % secretFileContentJson[\"channel_access_token\"]}\n",
    "\n",
    "# 上傳照片\n",
    "uploadImageFile=open(\"./images/menu.jpg\",'rb')\n",
    "# 用request傳post http給line對menu_id做設定\n",
    "lineUploadMenuResponse=requests.post(uploadMenuEndpoint,headers=uploadMenuRequestHeader,data=uploadImageFile)\n",
    "\n",
    "# 檢查是否成功\n",
    "print(lineUploadMenuResponse)\n",
    "print(lineUploadMenuResponse.text)"
   ]
  },
  {
   "cell_type": "code",
   "execution_count": null,
   "metadata": {},
   "outputs": [],
   "source": []
  },
  {
   "cell_type": "code",
   "execution_count": null,
   "metadata": {},
   "outputs": [],
   "source": [
    "# 取出用戶id，設定Line的遠端位置\n",
    "user_id = 'Ua5ec88edae803461e0c943ef27a0312e'\n",
    "userMenuEndpoint='https://api.line.me/v2/bot/user/%s/richmenu' % (user_id)\n",
    "print(userMenuEndpoint)\n",
    "\n",
    "# 設定消息的基本安全憑證\n",
    "userMenuRequestHeader={'Authorization':'Bearer %s' % secretFileContentJson[\"channel_access_token\"]}\n",
    "\n",
    "# 發送消息告知\n",
    "lineUserMenuResponse=requests.get(userMenuEndpoint,headers=userMenuRequestHeader)\n",
    "print(lineUserMenuResponse)\n",
    "print(lineUserMenuResponse.text)"
   ]
  },
  {
   "cell_type": "code",
   "execution_count": null,
   "metadata": {},
   "outputs": [],
   "source": [
    "# 取出用戶id，設定Line的遠端位置\n",
    "userMenuEndpoint='https://api.line.me/v2/bot/user/%s/richmenu' % (secretFileContentJson[\"self_user_id\"])\n",
    "print(userMenuEndpoint)\n",
    "\n",
    "# 設定消息的基本安全憑證\n",
    "userMenuRequestHeader={'Authorization':'Bearer %s' % secretFileContentJson[\"channel_access_token\"]}\n",
    "\n",
    "# 發送消息告知\n",
    "lineUserMenuResponse=requests.get(userMenuEndpoint,headers=userMenuRequestHeader)\n",
    "print(lineUserMenuResponse)\n",
    "print(lineUserMenuResponse.text)"
   ]
  },
  {
   "cell_type": "code",
   "execution_count": 28,
   "metadata": {},
   "outputs": [
    {
     "name": "stdout",
     "output_type": "stream",
     "text": [
      "https://api.line.me/v2/bot/user/Ua5ec88edae803461e0c943ef27a0312e/richmenu\n",
      "<Response [200]>\n",
      "{}\n"
     ]
    }
   ],
   "source": [
    "# 取出用戶id，設定Line的遠端位置\n",
    "userMenuEndpoint='https://api.line.me/v2/bot/user/%s/richmenu' % (secretFileContentJson[\"self_user_id\"])\n",
    "print(userMenuEndpoint)\n",
    "\n",
    "# 設定消息的基本安全憑證\n",
    "userMenuRequestHeader={'Authorization':'Bearer %s' % secretFileContentJson[\"channel_access_token\"]}\n",
    "\n",
    "# 發送消息告知\n",
    "lineUnregisterUserMenuResponse=requests.delete(userMenuEndpoint,headers=userMenuRequestHeader)\n",
    "print(lineUnregisterUserMenuResponse)\n",
    "print(lineUnregisterUserMenuResponse.text)\n"
   ]
  },
  {
   "cell_type": "code",
   "execution_count": null,
   "metadata": {},
   "outputs": [],
   "source": []
  }
 ],
 "metadata": {
  "kernelspec": {
   "display_name": "Python 3",
   "language": "python",
   "name": "python3"
  },
  "language_info": {
   "codemirror_mode": {
    "name": "ipython",
    "version": 3
   },
   "file_extension": ".py",
   "mimetype": "text/x-python",
   "name": "python",
   "nbconvert_exporter": "python",
   "pygments_lexer": "ipython3",
   "version": "3.6.5"
  }
 },
 "nbformat": 4,
 "nbformat_minor": 2
}
